{
  "cells": [
    {
      "cell_type": "markdown",
      "metadata": {
        "id": "view-in-github",
        "colab_type": "text"
      },
      "source": [
        "<a href=\"https://colab.research.google.com/github/PedroTechy/CarrisInsight/blob/streaming_development/spark_jobs/extract_carris_vehicles.ipynb\" target=\"_parent\"><img src=\"https://colab.research.google.com/assets/colab-badge.svg\" alt=\"Open In Colab\"/></a>"
      ]
    },
    {
      "cell_type": "markdown",
      "metadata": {
        "id": "TputMQpEi4ax"
      },
      "source": [
        "# Step 1: Authenticate with Google Cloud\n"
      ]
    },
    {
      "cell_type": "code",
      "execution_count": 1,
      "metadata": {
        "id": "IoSKBOhCi4a3",
        "colab": {
          "base_uri": "https://localhost:8080/"
        },
        "outputId": "7bcd2088-0952-4f38-ecea-834d0aaa4a67"
      },
      "outputs": [
        {
          "output_type": "stream",
          "name": "stdout",
          "text": [
            "Go to the following link in your browser, and complete the sign-in prompts:\n",
            "\n",
            "    https://accounts.google.com/o/oauth2/auth?response_type=code&client_id=764086051850-6qr4p6gpi6hn506pt8ejuq83di341hur.apps.googleusercontent.com&redirect_uri=https%3A%2F%2Fsdk.cloud.google.com%2Fapplicationdefaultauthcode.html&scope=openid+https%3A%2F%2Fwww.googleapis.com%2Fauth%2Fuserinfo.email+https%3A%2F%2Fwww.googleapis.com%2Fauth%2Fcloud-platform+https%3A%2F%2Fwww.googleapis.com%2Fauth%2Fsqlservice.login&state=fgQqhZkl3IXCOxXHYO1XZv60nOVHBA&prompt=consent&token_usage=remote&access_type=offline&code_challenge=KUmO7jgujuJebhujuAgYhwNI9e7vKYTAUkfqajZY4BM&code_challenge_method=S256\n",
            "\n",
            "Once finished, enter the verification code provided in your browser: 4/0AanRRrsMdFapIEVeS6uebzjzBjz-n92zT-HgdyqeytGXr66VxX-4-tQw_qung0ozDL1GVA\n",
            "\n",
            "Credentials saved to file: [/content/.config/application_default_credentials.json]\n",
            "\n",
            "These credentials will be used by any library that requests Application Default Credentials (ADC).\n",
            "\u001b[1;33mWARNING:\u001b[0m \n",
            "Cannot find a quota project to add to ADC. You might receive a \"quota exceeded\" or \"API not enabled\" error. Run $ gcloud auth application-default set-quota-project to add a quota project.\n"
          ]
        }
      ],
      "source": [
        "!gcloud auth application-default login"
      ]
    },
    {
      "cell_type": "markdown",
      "metadata": {
        "id": "5joskWjSi4a5"
      },
      "source": [
        "# Step 2: Install Spark"
      ]
    },
    {
      "cell_type": "code",
      "source": [
        "!pip install pyspark"
      ],
      "metadata": {
        "colab": {
          "base_uri": "https://localhost:8080/"
        },
        "id": "Xnykj576wq14",
        "outputId": "2363d0a5-f56e-4daf-e910-a089f48459e4"
      },
      "execution_count": 2,
      "outputs": [
        {
          "output_type": "stream",
          "name": "stdout",
          "text": [
            "Requirement already satisfied: pyspark in /usr/local/lib/python3.11/dist-packages (3.5.4)\n",
            "Requirement already satisfied: py4j==0.10.9.7 in /usr/local/lib/python3.11/dist-packages (from pyspark) (0.10.9.7)\n"
          ]
        }
      ]
    },
    {
      "cell_type": "markdown",
      "metadata": {
        "id": "q4IR_oNvi4a9"
      },
      "source": [
        "# Step 3: Setup Spark Env and Imports"
      ]
    },
    {
      "cell_type": "code",
      "source": [
        "from pyspark import SparkConf\n",
        "from pyspark.sql import SparkSession\n",
        "from pyspark.sql.types import StructType, StructField, StringType, IntegerType, FloatType, LongType\n",
        "from pyspark.sql.functions import min, max, first, last, col, window, from_unixtime, to_timestamp, count, udf\n"
      ],
      "metadata": {
        "id": "E8AB-EuOxXAD"
      },
      "execution_count": 3,
      "outputs": []
    },
    {
      "cell_type": "code",
      "source": [
        "spark = SparkSession.builder \\\n",
        "    .appName('pyspark-run-with-gcp-bucket') \\\n",
        "    .config(\"spark.jars\", \"https://storage.googleapis.com/hadoop-lib/gcs/gcs-connector-hadoop3-latest.jar\") \\\n",
        "    .config(\"spark.sql.repl.eagerEval.enabled\", True) \\\n",
        "    .getOrCreate()\n",
        "\n",
        "gs_input_path = \"gs://edit-de-project-streaming-data/carris-vehicles\"\n",
        "spark._jsc.hadoopConfiguration().set(\"google.cloud.auth.service.account.json.keyfile\", \"/content/.config/application_default_credentials.json\")"
      ],
      "metadata": {
        "id": "Kd0js4ULxYOE"
      },
      "execution_count": 4,
      "outputs": []
    },
    {
      "cell_type": "code",
      "execution_count": 5,
      "metadata": {
        "id": "BJKtwKfCi4bB"
      },
      "outputs": [],
      "source": []
    },
    {
      "cell_type": "code",
      "source": [
        "#Cleaning the path to ensure clean directories\n",
        "!rm -rf content/lake/"
      ],
      "metadata": {
        "id": "OUX7Hw_TW02b"
      },
      "execution_count": 14,
      "outputs": []
    },
    {
      "cell_type": "markdown",
      "source": [],
      "metadata": {
        "id": "SoLfFeUObaY2"
      }
    },
    {
      "cell_type": "markdown",
      "source": [],
      "metadata": {
        "id": "ZiGVmPmKbaVt"
      }
    },
    {
      "cell_type": "markdown",
      "metadata": {
        "id": "oo74DP8Fi4bB"
      },
      "source": [
        "# Step 4: Define Schema and User Defined Functions"
      ]
    },
    {
      "cell_type": "code",
      "execution_count": 6,
      "metadata": {
        "id": "ei6YYuAei4bB"
      },
      "outputs": [],
      "source": [
        "# Define the schema for your JSON files\n",
        "\n",
        "schema = StructType([\n",
        "    StructField(\"bearing\", FloatType(), True),\n",
        "    StructField(\"block_id\", StringType(), True),\n",
        "    StructField(\"current_status\", StringType(), True),\n",
        "    StructField(\"id\", StringType(), True),\n",
        "    StructField(\"lat\", FloatType(), True),\n",
        "    StructField(\"line_id\", StringType(), True),\n",
        "    StructField(\"lon\", FloatType(), True),\n",
        "    StructField(\"pattern_id\", StringType(), True),\n",
        "    StructField(\"route_id\", StringType(), True),\n",
        "    StructField(\"schedule_relationship\", StringType(), True),\n",
        "    StructField(\"shift_id\", StringType(), True),\n",
        "    StructField(\"speed\", FloatType(), True),\n",
        "    StructField(\"stop_id\", StringType(), True),\n",
        "    StructField(\"timestamp\", LongType(), True),\n",
        "    StructField(\"trip_id\", StringType(), True)\n",
        "])"
      ]
    },
    {
      "cell_type": "code",
      "source": [
        "import math\n",
        "def haversine(lat1, lon1, lat2, lon2):\n",
        "    try:\n",
        "      # Earth radius in kilometers\n",
        "      R = 6371.0\n",
        "\n",
        "      # Convert latitude and longitude from degrees to radians\n",
        "      lat1_rad, lon1_rad = math.radians(lat1), math.radians(lon1)\n",
        "      lat2_rad, lon2_rad = math.radians(lat2), math.radians(lon2)\n",
        "\n",
        "      # Differences\n",
        "      delta_lat = lat2_rad - lat1_rad\n",
        "      delta_lon = lon2_rad - lon1_rad\n",
        "\n",
        "      # Haversine formula\n",
        "      a = math.sin(delta_lat / 2)**2 + math.cos(lat1_rad) * math.cos(lat2_rad) * math.sin(delta_lon / 2)**2\n",
        "      c = 2 * math.atan2(math.sqrt(a), math.sqrt(1 - a))\n",
        "\n",
        "      # Distance\n",
        "      distance = R * c\n",
        "      return distance\n",
        "    except:\n",
        "      return 0\n",
        "\n",
        "haversine_udf = udf(haversine, FloatType())\n",
        "\n"
      ],
      "metadata": {
        "id": "ZBlciteo7N2G"
      },
      "execution_count": 7,
      "outputs": []
    },
    {
      "cell_type": "code",
      "source": [
        "import requests\n",
        "import json\n",
        "def get_stop_location(stop_id):\n",
        "  try:\n",
        "    url = f\"https://api.carrismetropolitana.pt/stops/{stop_id}\"\n",
        "    response = requests.get(url)\n",
        "\n",
        "    json.loads(response.text)\n",
        "    print(float(response.json()['lat']), response.json()['lon'])\n",
        "    return (float(response.json()['lat']),float(response.json()['lon']))\n",
        "  except KeyError:\n",
        "    return 0\n",
        "\n",
        "calculate_stop_location = udf(get_stop_location, StructType([\n",
        "    StructField(\"lat\", FloatType(), False),\n",
        "    StructField(\"lon\", FloatType(), False)\n",
        "]))\n",
        "\n"
      ],
      "metadata": {
        "id": "sKkRDGxVIukk"
      },
      "execution_count": 8,
      "outputs": []
    },
    {
      "cell_type": "markdown",
      "source": [
        "## Step 5: Start streaming and transformation process"
      ],
      "metadata": {
        "id": "_DtGnQQ5JwOT"
      }
    },
    {
      "cell_type": "code",
      "source": [
        "df = (spark.readStream.option(\"maxFilesPerTrigger\", 1)\n",
        "    .format(\"json\")\n",
        "    .schema(schema)\n",
        "    .load(gs_input_path))\n",
        "print(\"will start streaming\")\n",
        "\n",
        "\n",
        "transformed_df = df.withColumn(\"timestamp\", to_timestamp(from_unixtime(\"timestamp\")))\n",
        "# Write a df with the datetype transform only\n",
        "print(\"Transformed data\")\n",
        "\n",
        "\n",
        "window_spec = window(\"timestamp\", \"2 minutes\", \"10 seconds\")\n",
        "# Group by vehicle ID and window, then get the first and last timestamps and lat/lon values\n",
        "result_df = (\n",
        "    transformed_df\n",
        "        .withWatermark(\"timestamp\", \"3 minutes\")\n",
        "    .groupBy(\"id\", \"trip_id\", window_spec)\n",
        "    .agg(\n",
        "        max(\"current_status\").alias(\"current_status\"),\n",
        "        max(\"route_id\").alias(\"route_id\"),\n",
        "        max(\"stop_id\").alias(\"stop_id\"),\n",
        "        min(\"timestamp\").alias(\"first_timestamp\"),\n",
        "        max(\"timestamp\").alias(\"last_timestamp\"),\n",
        "        first(\"lat\").alias(\"first_lat\"),\n",
        "        first(\"lon\").alias(\"first_lon\"),\n",
        "        last(\"lat\").alias(\"last_lat\"),\n",
        "        last(\"lon\").alias(\"last_lon\")\n",
        "    ).withColumn(\n",
        "        \"distance\",\n",
        "        haversine_udf(col(\"first_lat\"), col(\"first_lon\"), col(\"last_lat\"), col(\"last_lon\")\n",
        "        )\n",
        "\n",
        "        ).withColumn(\n",
        "        \"time_delta\", col(\"last_timestamp\").cast(\"long\") - col(\"first_timestamp\").cast(\"long\")\n",
        "    ).withColumn(\"average_speed\", col(\"distance\") / (col(\"time_delta\") / 3600))\n",
        "\n",
        ")\n",
        "\n",
        "query = (result_df.writeStream\n",
        ".outputMode('append')\n",
        ".option('checkpointLocation', 'content/lake/processing/vehicles_checkpoint')\n",
        ".trigger(processingTime='10 seconds')\n",
        "#.foreach(transform_data)\n",
        ".start('content/lake/processing/vehicles/data')\n",
        ")\n",
        "\n",
        "query.awaitTermination(300)\n",
        "\n",
        "query.stop()\n"
      ],
      "metadata": {
        "id": "Ixu4EnWx3HwY",
        "colab": {
          "base_uri": "https://localhost:8080/"
        },
        "collapsed": true,
        "outputId": "f9aff7a2-68a0-4b58-f000-dec0c75138c6"
      },
      "execution_count": 22,
      "outputs": [
        {
          "output_type": "stream",
          "name": "stdout",
          "text": [
            "will start streaming\n",
            "Transformed data\n"
          ]
        }
      ]
    },
    {
      "cell_type": "markdown",
      "source": [
        "## Step 6: Read and verify results"
      ],
      "metadata": {
        "id": "irMdRfeGJ53f"
      }
    },
    {
      "cell_type": "code",
      "source": [
        "df = spark.read.format(\"parquet\").load(\"content/lake/processing/vehicles/data\")\n"
      ],
      "metadata": {
        "id": "SU7P7Bs26c4C"
      },
      "execution_count": 25,
      "outputs": []
    },
    {
      "cell_type": "code",
      "source": [
        "df.show()"
      ],
      "metadata": {
        "colab": {
          "base_uri": "https://localhost:8080/"
        },
        "id": "55izQz3EI_Va",
        "outputId": "862564bb-3833-4834-d02f-d9242773e98e"
      },
      "execution_count": 26,
      "outputs": [
        {
          "output_type": "stream",
          "name": "stdout",
          "text": [
            "+-------+--------------------+--------------------+--------------+--------+-------+-------------------+-------------------+---------+---------+---------+---------+-----------+----------+------------------+\n",
            "|     id|             trip_id|              window|current_status|route_id|stop_id|    first_timestamp|     last_timestamp|first_lat|first_lon| last_lat| last_lon|   distance|time_delta|     average_speed|\n",
            "+-------+--------------------+--------------------+--------------+--------+-------+-------------------+-------------------+---------+---------+---------+---------+-----------+----------+------------------+\n",
            "|43|2255|3013_0_2_2300_232...|{2025-01-17 23:34...| IN_TRANSIT_TO|  3013_0| 020081|2025-01-17 23:35:48|2025-01-17 23:35:52| 38.67038|-9.159744| 38.67054|-9.159929|0.023986982|         4|21.588283963501453|\n",
            "|42|2723|2764_0_1|1|1|2310...|{2025-01-17 23:34...| IN_TRANSIT_TO|  2764_0| 071137|2025-01-17 23:35:58|2025-01-17 23:35:58|38.804203|-9.157618|38.804203|-9.157618|        0.0|         0|              NULL|\n",
            "|43|2249|3012_0_2_2300_232...|{2025-01-17 23:34...| IN_TRANSIT_TO|  3012_0| 020083|2025-01-17 23:35:58|2025-01-17 23:35:58| 38.67644| -9.16532| 38.67644| -9.16532|        0.0|         0|              NULL|\n",
            "|43|2305|3525_0_2_2300_232...|{2025-01-17 23:34...| IN_TRANSIT_TO|  3525_0| 020064|2025-01-17 23:35:53|2025-01-17 23:35:53|38.674545|-9.161961|38.674545|-9.161961|        0.0|         0|              NULL|\n",
            "|43|2609|3626_0_2_2300_232...|{2025-01-17 23:34...| IN_TRANSIT_TO|  3626_0| 040118|2025-01-17 23:35:43|2025-01-17 23:35:43| 38.57571|-9.038778| 38.57571|-9.038778|        0.0|         0|              NULL|\n",
            "|43|2038|3023_0_1_2300_232...|{2025-01-17 23:34...| IN_TRANSIT_TO|  3023_0| 020123|2025-01-17 23:35:59|2025-01-17 23:35:59|38.651215|-9.174367|38.651215|-9.174367|        0.0|         0|              NULL|\n",
            "|43|2024|3026_0_2_2000_202...|{2025-01-17 23:34...| IN_TRANSIT_TO|  3026_0| 020740|2025-01-17 23:35:27|2025-01-17 23:35:27| 38.67355|-9.153039| 38.67355|-9.153039|        0.0|         0|              NULL|\n",
            "|43|2024|3026_0_2_2000_202...|{2025-01-17 23:33...| IN_TRANSIT_TO|  3026_0| 020740|2025-01-17 23:35:27|2025-01-17 23:35:27| 38.67355|-9.153039| 38.67355|-9.153039|        0.0|         0|              NULL|\n",
            "|43|2236|3009_0_1_2300_232...|{2025-01-17 23:34...| IN_TRANSIT_TO|  3009_0| 020371|2025-01-17 23:35:47|2025-01-17 23:35:47|38.663803|-9.207134|38.663803|-9.207134|        0.0|         0|              NULL|\n",
            "|43|2310|3022_0_1_2330_235...|{2025-01-17 23:34...| IN_TRANSIT_TO|  3022_0| 020643|2025-01-17 23:35:48|2025-01-17 23:35:48|38.651886|-9.226534|38.651886|-9.226534|        0.0|         0|              NULL|\n",
            "|43|2292|3507_0_2_2300_232...|{2025-01-17 23:34...| IN_TRANSIT_TO|  3507_0| 020083|2025-01-17 23:35:31|2025-01-17 23:35:31| 38.67635|-9.165202| 38.67635|-9.165202|        0.0|         0|              NULL|\n",
            "|43|2111|3721_0_1_2300_232...|{2025-01-17 23:34...| IN_TRANSIT_TO|  3721_0| 150556|2025-01-17 23:35:57|2025-01-17 23:35:57|38.544205|-9.098455|38.544205|-9.098455|        0.0|         0|              NULL|\n",
            "|42|2336|2713_0_3|1|1|2245...|{2025-01-17 23:34...| IN_TRANSIT_TO|  2713_0| 060276|2025-01-17 23:35:45|2025-01-17 23:35:50| 38.76626|-9.129288| 38.76626|-9.129288|        0.0|         5|               0.0|\n",
            "|42|2314|2727_0_1|1|1|2335...|{2025-01-17 23:34...| IN_TRANSIT_TO|  2727_0| 060209|2025-01-17 23:35:50|2025-01-17 23:35:59|38.767986|-9.100461|38.768257| -9.10038|0.030925555|         9|12.370222061872482|\n",
            "|43|2286|3101_0_2_2300_232...|{2025-01-17 23:34...|   INCOMING_AT|  3101_0| 140143|2025-01-17 23:35:09|2025-01-17 23:35:09|38.629562|-9.116164|38.629562|-9.116164|        0.0|         0|              NULL|\n",
            "|43|2380|3513_0_1_2300_232...|{2025-01-17 23:34...|   INCOMING_AT|  3513_0| 140638|2025-01-17 23:35:24|2025-01-17 23:35:24| 38.63242|-9.152001| 38.63242|-9.152001|        0.0|         0|              NULL|\n",
            "|43|2286|3101_0_2_2300_232...|{2025-01-17 23:33...|   INCOMING_AT|  3101_0| 140143|2025-01-17 23:35:09|2025-01-17 23:35:09|38.629562|-9.116164|38.629562|-9.116164|        0.0|         0|              NULL|\n",
            "|43|2380|3513_0_1_2300_232...|{2025-01-17 23:33...|   INCOMING_AT|  3513_0| 140638|2025-01-17 23:35:24|2025-01-17 23:35:24| 38.63242|-9.152001| 38.63242|-9.152001|        0.0|         0|              NULL|\n",
            "|43|2223|3509_1_1_2130_215...|{2025-01-17 23:33...|   INCOMING_AT|  3509_1| 140021|2025-01-17 23:35:27|2025-01-17 23:35:27|38.626945|-9.082673|38.626945|-9.082673|        0.0|         0|              NULL|\n",
            "|43|2222|3112_0_2_2300_232...|{2025-01-17 23:34...|    STOPPED_AT|  3112_0| 140037|2025-01-17 23:35:44|2025-01-17 23:35:44|38.610313|-9.101595|38.610313|-9.101595|        0.0|         0|              NULL|\n",
            "+-------+--------------------+--------------------+--------------+--------+-------+-------------------+-------------------+---------+---------+---------+---------+-----------+----------+------------------+\n",
            "only showing top 20 rows\n",
            "\n"
          ]
        }
      ]
    },
    {
      "cell_type": "code",
      "source": [
        "final =( df.orderBy(\"last_timestamp\", ascending=False)\n",
        "        .dropDuplicates([\"id\"])\n",
        "        .withColumn(\"stop\", calculate_stop_location(col(\"stop_id\")))\n",
        "     .withColumn(\"distance_till_stop\", haversine_udf(col(\"last_lat\"), col('last_lon'), col('stop.lat'), col('stop.lon')))\n",
        "     .withColumn(\"stop_eta\", col(\"distance_till_stop\") / col(\"average_speed\"))\n",
        "\n",
        "\n",
        "         )"
      ],
      "metadata": {
        "id": "exdh465FGXEN"
      },
      "execution_count": 27,
      "outputs": []
    },
    {
      "cell_type": "code",
      "source": [
        "final.show()"
      ],
      "metadata": {
        "colab": {
          "base_uri": "https://localhost:8080/"
        },
        "id": "XHMQYUvxGmIn",
        "outputId": "c67b2019-6df4-489f-b28b-7384acea93f9"
      },
      "execution_count": 28,
      "outputs": [
        {
          "output_type": "stream",
          "name": "stdout",
          "text": [
            "+-------+--------------------+--------------------+--------------+--------+-------+-------------------+-------------------+---------+---------+---------+---------+--------+----------+-------------+--------------------+------------------+--------+\n",
            "|     id|             trip_id|              window|current_status|route_id|stop_id|    first_timestamp|     last_timestamp|first_lat|first_lon| last_lat| last_lon|distance|time_delta|average_speed|                stop|distance_till_stop|stop_eta|\n",
            "+-------+--------------------+--------------------+--------------+--------+-------+-------------------+-------------------+---------+---------+---------+---------+--------+----------+-------------+--------------------+------------------+--------+\n",
            "|41|1177|1722_0_1_2300_232...|{2025-01-17 23:34...|   INCOMING_AT|  1722_0| 120069|2025-01-17 23:35:55|2025-01-17 23:35:55|38.705444|-9.240254|38.705444|-9.240254|     0.0|         0|         NULL|{38.70538, -9.240...|       0.007317034|    NULL|\n",
            "|41|1191|1608_0_2_2330_235...|{2025-01-17 23:34...| IN_TRANSIT_TO|  1608_0| 121011|2025-01-17 23:35:55|2025-01-17 23:35:55|38.737614|-9.308815|38.737614|-9.308815|     0.0|         0|         NULL|{38.734566, -9.30...|        0.40011445|    NULL|\n",
            "|41|1217|1625_0_1_2230_225...|{2025-01-17 23:34...| IN_TRANSIT_TO|  1625_0| 170071|2025-01-17 23:35:41|2025-01-17 23:35:41|38.781742| -9.32371|38.781742| -9.32371|     0.0|         0|         NULL|{38.782223, -9.32...|        0.06328654|    NULL|\n",
            "|41|1221|1638_0_1_2330_235...|{2025-01-17 23:34...| IN_TRANSIT_TO|  1638_0| 121232|2025-01-17 23:35:56|2025-01-17 23:35:56| 38.69095| -9.32519| 38.69095| -9.32519|     0.0|         0|         NULL|{38.691193, -9.32...|        0.16546479|    NULL|\n",
            "|41|1249|1523_0_2_2330_235...|{2025-01-17 23:34...|    STOPPED_AT|  1523_0| 120747|2025-01-17 23:35:51|2025-01-17 23:35:51|38.697254| -9.30623|38.697254| -9.30623|     0.0|         0|         NULL|{38.697254, -9.30...|      0.0035588064|    NULL|\n",
            "|41|1251|1517_0_1_2330_235...|{2025-01-17 23:34...|   INCOMING_AT|  1517_0| 030407|2025-01-17 23:35:33|2025-01-17 23:35:33|38.751804|-9.224356|38.751804|-9.224356|     0.0|         0|         NULL|{38.751575, -9.22...|        0.03123694|    NULL|\n",
            "|41|1262|1514_0_1_2300_232...|{2025-01-17 23:34...| IN_TRANSIT_TO|  1514_0| 030613|2025-01-17 23:35:46|2025-01-17 23:35:46|38.758297|-9.218914|38.758297|-9.218914|     0.0|         0|         NULL|{38.757683, -9.22...|         0.2950386|    NULL|\n",
            "|41|1263|1518_0_2_2300_232...|{2025-01-17 23:34...| IN_TRANSIT_TO|  1518_0| 030345|2025-01-17 23:35:13|2025-01-17 23:35:13|38.761986|-9.240103|38.761986|-9.240103|     0.0|         0|         NULL|{38.75992, -9.240...|         0.2406498|    NULL|\n",
            "|41|1279|1236_0_1_2330_235...|{2025-01-17 23:34...| IN_TRANSIT_TO|  1236_0| 170439|2025-01-17 23:35:51|2025-01-17 23:35:51|38.770615|-9.318001|38.770615|-9.318001|     0.0|         0|         NULL|{38.768726, -9.31...|        0.45469084|    NULL|\n",
            "|41|1311|1708_C_0_3_2300_2...|{2025-01-17 23:34...| IN_TRANSIT_TO|  1708_0| 060057|2025-01-17 23:35:29|2025-01-17 23:35:29|38.756004|-9.194633|38.756004|-9.194633|     0.0|         0|         NULL|{38.761295, -9.19...|        0.63134766|    NULL|\n",
            "|41|1330|1998_1_1_2300_232...|{2025-01-17 23:34...| IN_TRANSIT_TO|  1998_1| 050050|2025-01-17 23:35:53|2025-01-17 23:35:53|38.688026|-9.331393|38.688026|-9.331393|     0.0|         0|         NULL|{38.687473, -9.33...|         0.4361897|    NULL|\n",
            "|41|1333|1611_0_1_2300_232...|{2025-01-17 23:34...| IN_TRANSIT_TO|  1611_0| 120956|2025-01-17 23:35:59|2025-01-17 23:35:59| 38.72001|-9.295487| 38.72001|-9.295487|     0.0|         0|         NULL|{38.718945, -9.29...|        0.23679905|    NULL|\n",
            "|41|1344|1998_1_2_2300_232...|{2025-01-17 23:34...|   INCOMING_AT|  1998_1| 126234|2025-01-17 23:35:29|2025-01-17 23:35:29|38.688362|-9.317098|38.688362|-9.317098|     0.0|         0|         NULL|{38.688316, -9.31...|       0.019067619|    NULL|\n",
            "|41|1356|1998_0_2_2300_232...|{2025-01-17 23:34...|   INCOMING_AT|  1998_0| 126234|2025-01-17 23:35:47|2025-01-17 23:35:47|38.688484|-9.317523|38.688484|-9.317523|     0.0|         0|         NULL|{38.688316, -9.31...|        0.05835746|    NULL|\n",
            "|41|1362|1005_0_2_2330_235...|{2025-01-17 23:34...| IN_TRANSIT_TO|  1005_0| 030851|2025-01-17 23:35:36|2025-01-17 23:35:36|38.778866|-9.218257|38.778866|-9.218257|     0.0|         0|         NULL|{38.778725, -9.22...|        0.36275837|    NULL|\n",
            "|41|1364|1721_0_1_2330_235...|{2025-01-17 23:34...|    STOPPED_AT|  1721_0| 060134|2025-01-17 23:35:18|2025-01-17 23:35:18|38.752705|-9.189925|38.752705|-9.189925|     0.0|         0|         NULL|{38.75296, -9.190...|       0.049089417|    NULL|\n",
            "|41|1367|1704_0_2_2200_222...|{2025-01-17 23:33...|    STOPPED_AT|  1704_0| 030446|2025-01-17 23:35:29|2025-01-17 23:35:29| 38.73965|-9.269995| 38.73965|-9.269995|     0.0|         0|         NULL|{38.749317, -9.23...|          3.358279|    NULL|\n",
            "|41|1865|1720_0_1_2330_235...|{2025-01-17 23:34...|    STOPPED_AT|  1720_0| 171553|2025-01-17 23:35:32|2025-01-17 23:35:32|38.800224|-9.228452|38.800224|-9.228452|     0.0|         0|         NULL|{38.800312, -9.22...|       0.010086804|    NULL|\n",
            "|41|1871|1625_0_1_2300_232...|{2025-01-17 23:34...| IN_TRANSIT_TO|  1625_0| 050233|2025-01-17 23:35:21|2025-01-17 23:35:21|38.726604|-9.412056|38.726604|-9.412056|     0.0|         0|         NULL|{38.728703, -9.41...|         0.6036608|    NULL|\n",
            "| 41|543|1604_0_2_2300_232...|{2025-01-17 23:34...| IN_TRANSIT_TO|  1604_0| 050055|2025-01-17 23:35:38|2025-01-17 23:35:38| 38.70069|-9.338388| 38.70069|-9.338388|     0.0|         0|         NULL|{38.699448, -9.33...|        0.23668203|    NULL|\n",
            "+-------+--------------------+--------------------+--------------+--------+-------+-------------------+-------------------+---------+---------+---------+---------+--------+----------+-------------+--------------------+------------------+--------+\n",
            "only showing top 20 rows\n",
            "\n"
          ]
        }
      ]
    }
  ],
  "metadata": {
    "colab": {
      "provenance": [],
      "include_colab_link": true
    },
    "kernelspec": {
      "display_name": "Python 3",
      "name": "python3"
    },
    "language_info": {
      "name": "python"
    }
  },
  "nbformat": 4,
  "nbformat_minor": 0
}