{
  "cells": [
    {
      "cell_type": "markdown",
      "metadata": {
        "id": "view-in-github",
        "colab_type": "text"
      },
      "source": [
        "<a href=\"https://colab.research.google.com/github/PedroTechy/CarrisInsight/blob/streaming_development/spark_jobs/extract_carris_vehicles.ipynb\" target=\"_parent\"><img src=\"https://colab.research.google.com/assets/colab-badge.svg\" alt=\"Open In Colab\"/></a>"
      ]
    },
    {
      "cell_type": "markdown",
      "metadata": {
        "id": "TputMQpEi4ax"
      },
      "source": [
        "# Step 1: Authenticate with Google Cloud\n"
      ]
    },
    {
      "cell_type": "code",
      "execution_count": 1,
      "metadata": {
        "id": "IoSKBOhCi4a3",
        "colab": {
          "base_uri": "https://localhost:8080/"
        },
        "outputId": "7bcd2088-0952-4f38-ecea-834d0aaa4a67"
      },
      "outputs": [
        {
          "output_type": "stream",
          "name": "stdout",
          "text": [
            "Go to the following link in your browser, and complete the sign-in prompts:\n",
            "\n",
            "    https://accounts.google.com/o/oauth2/auth?response_type=code&client_id=764086051850-6qr4p6gpi6hn506pt8ejuq83di341hur.apps.googleusercontent.com&redirect_uri=https%3A%2F%2Fsdk.cloud.google.com%2Fapplicationdefaultauthcode.html&scope=openid+https%3A%2F%2Fwww.googleapis.com%2Fauth%2Fuserinfo.email+https%3A%2F%2Fwww.googleapis.com%2Fauth%2Fcloud-platform+https%3A%2F%2Fwww.googleapis.com%2Fauth%2Fsqlservice.login&state=fgQqhZkl3IXCOxXHYO1XZv60nOVHBA&prompt=consent&token_usage=remote&access_type=offline&code_challenge=KUmO7jgujuJebhujuAgYhwNI9e7vKYTAUkfqajZY4BM&code_challenge_method=S256\n",
            "\n",
            "Once finished, enter the verification code provided in your browser: 4/0AanRRrsMdFapIEVeS6uebzjzBjz-n92zT-HgdyqeytGXr66VxX-4-tQw_qung0ozDL1GVA\n",
            "\n",
            "Credentials saved to file: [/content/.config/application_default_credentials.json]\n",
            "\n",
            "These credentials will be used by any library that requests Application Default Credentials (ADC).\n",
            "\u001b[1;33mWARNING:\u001b[0m \n",
            "Cannot find a quota project to add to ADC. You might receive a \"quota exceeded\" or \"API not enabled\" error. Run $ gcloud auth application-default set-quota-project to add a quota project.\n"
          ]
        }
      ],
      "source": [
        "!gcloud auth application-default login"
      ]
    },
    {
      "cell_type": "markdown",
      "metadata": {
        "id": "5joskWjSi4a5"
      },
      "source": [
        "# Step 2: Install Spark"
      ]
    },
    {
      "cell_type": "code",
      "source": [
        "!pip install pyspark"
      ],
      "metadata": {
        "colab": {
          "base_uri": "https://localhost:8080/"
        },
        "id": "Xnykj576wq14",
        "outputId": "2363d0a5-f56e-4daf-e910-a089f48459e4"
      },
      "execution_count": 2,
      "outputs": [
        {
          "output_type": "stream",
          "name": "stdout",
          "text": [
            "Requirement already satisfied: pyspark in /usr/local/lib/python3.11/dist-packages (3.5.4)\n",
            "Requirement already satisfied: py4j==0.10.9.7 in /usr/local/lib/python3.11/dist-packages (from pyspark) (0.10.9.7)\n"
          ]
        }
      ]
    },
    {
      "cell_type": "markdown",
      "metadata": {
        "id": "q4IR_oNvi4a9"
      },
      "source": [
        "# Step 3: Setup Spark Env and Imports"
      ]
    },
    {
      "cell_type": "code",
      "source": [
        "from pyspark import SparkConf\n",
        "from pyspark.sql import SparkSession\n",
        "from pyspark.sql.types import StructType, StructField, StringType, IntegerType, FloatType, LongType\n",
        "from pyspark.sql.functions import min, max, first, last, col, window, from_unixtime, to_timestamp, count, udf\n"
      ],
      "metadata": {
        "id": "E8AB-EuOxXAD"
      },
      "execution_count": 3,
      "outputs": []
    },
    {
      "cell_type": "code",
      "source": [
        "spark = SparkSession.builder \\\n",
        "    .appName('pyspark-run-with-gcp-bucket') \\\n",
        "    .config(\"spark.jars\", \"https://storage.googleapis.com/hadoop-lib/gcs/gcs-connector-hadoop3-latest.jar\") \\\n",
        "    .config(\"spark.sql.repl.eagerEval.enabled\", True) \\\n",
        "    .getOrCreate()\n",
        "\n",
        "gs_input_path = \"gs://edit-de-project-streaming-data/carris-vehicles\"\n",
        "spark._jsc.hadoopConfiguration().set(\"google.cloud.auth.service.account.json.keyfile\", \"/content/.config/application_default_credentials.json\")"
      ],
      "metadata": {
        "id": "Kd0js4ULxYOE"
      },
      "execution_count": 4,
      "outputs": []
    },
    {
      "cell_type": "code",
      "execution_count": 5,
      "metadata": {
        "id": "BJKtwKfCi4bB"
      },
      "outputs": [],
      "source": []
    },
    {
      "cell_type": "code",
      "source": [
        "#Cleaning the path to ensure clean directories\n",
        "!rm -rf content/lake/"
      ],
      "metadata": {
        "id": "OUX7Hw_TW02b"
      },
      "execution_count": 14,
      "outputs": []
    },
    {
      "cell_type": "markdown",
      "source": [],
      "metadata": {
        "id": "SoLfFeUObaY2"
      }
    },
    {
      "cell_type": "markdown",
      "source": [],
      "metadata": {
        "id": "ZiGVmPmKbaVt"
      }
    },
    {
      "cell_type": "markdown",
      "metadata": {
        "id": "oo74DP8Fi4bB"
      },
      "source": [
        "# Step 4: Define Schema and User Defined Functions"
      ]
    },
    {
      "cell_type": "code",
      "execution_count": 6,
      "metadata": {
        "id": "ei6YYuAei4bB"
      },
      "outputs": [],
      "source": [
        "# Define the schema for your JSON files\n",
        "\n",
        "schema = StructType([\n",
        "    StructField(\"bearing\", FloatType(), True),\n",
        "    StructField(\"block_id\", StringType(), True),\n",
        "    StructField(\"current_status\", StringType(), True),\n",
        "    StructField(\"id\", StringType(), True),\n",
        "    StructField(\"lat\", FloatType(), True),\n",
        "    StructField(\"line_id\", StringType(), True),\n",
        "    StructField(\"lon\", FloatType(), True),\n",
        "    StructField(\"pattern_id\", StringType(), True),\n",
        "    StructField(\"route_id\", StringType(), True),\n",
        "    StructField(\"schedule_relationship\", StringType(), True),\n",
        "    StructField(\"shift_id\", StringType(), True),\n",
        "    StructField(\"speed\", FloatType(), True),\n",
        "    StructField(\"stop_id\", StringType(), True),\n",
        "    StructField(\"timestamp\", LongType(), True),\n",
        "    StructField(\"trip_id\", StringType(), True)\n",
        "])"
      ]
    },
    {
      "cell_type": "code",
      "source": [
        "import math\n",
        "def haversine(lat1, lon1, lat2, lon2):\n",
        "    try:\n",
        "      # Earth radius in kilometers\n",
        "      R = 6371.0\n",
        "\n",
        "      # Convert latitude and longitude from degrees to radians\n",
        "      lat1_rad, lon1_rad = math.radians(lat1), math.radians(lon1)\n",
        "      lat2_rad, lon2_rad = math.radians(lat2), math.radians(lon2)\n",
        "\n",
        "      # Differences\n",
        "      delta_lat = lat2_rad - lat1_rad\n",
        "      delta_lon = lon2_rad - lon1_rad\n",
        "\n",
        "      # Haversine formula\n",
        "      a = math.sin(delta_lat / 2)**2 + math.cos(lat1_rad) * math.cos(lat2_rad) * math.sin(delta_lon / 2)**2\n",
        "      c = 2 * math.atan2(math.sqrt(a), math.sqrt(1 - a))\n",
        "\n",
        "      # Distance\n",
        "      distance = R * c\n",
        "      return distance\n",
        "    except:\n",
        "      return 0\n",
        "\n",
        "haversine_udf = udf(haversine, FloatType())\n",
        "\n"
      ],
      "metadata": {
        "id": "ZBlciteo7N2G"
      },
      "execution_count": 7,
      "outputs": []
    },
    {
      "cell_type": "code",
      "source": [
        "import requests\n",
        "import json\n",
        "def get_stop_location(stop_id):\n",
        "  try:\n",
        "    url = f\"https://api.carrismetropolitana.pt/stops/{stop_id}\"\n",
        "    response = requests.get(url)\n",
        "\n",
        "    json.loads(response.text)\n",
        "    print(float(response.json()['lat']), response.json()['lon'])\n",
        "    return (float(response.json()['lat']),float(response.json()['lon']))\n",
        "  except KeyError:\n",
        "    return 0\n",
        "\n",
        "calculate_stop_location = udf(get_stop_location, StructType([\n",
        "    StructField(\"lat\", FloatType(), False),\n",
        "    StructField(\"lon\", FloatType(), False)\n",
        "]))\n",
        "\n"
      ],
      "metadata": {
        "id": "sKkRDGxVIukk"
      },
      "execution_count": 8,
      "outputs": []
    },
    {
      "cell_type": "markdown",
      "source": [
        "## Step 5: Start streaming and transformation process"
      ],
      "metadata": {
        "id": "_DtGnQQ5JwOT"
      }
    },
    {
      "cell_type": "code",
      "source": [
        "df = (spark.readStream.option(\"maxFilesPerTrigger\", 1)\n",
        "    .format(\"json\")\n",
        "    .schema(schema)\n",
        "    .load(gs_input_path))\n",
        "print(\"will start streaming\")\n",
        "\n",
        "\n",
        "transformed_df = df.withColumn(\"timestamp\", to_timestamp(from_unixtime(\"timestamp\")))\n",
        "# Write a df with the datetype transform only\n",
        "print(\"Transformed data\")\n",
        "\n",
        "\n",
        "window_spec = window(\"timestamp\", \"2 minutes\", \"30 seconds\")\n",
        "# Group by vehicle ID and window, then get the first and last timestamps and lat/lon values\n",
        "result_df = (\n",
        "    transformed_df\n",
        "        .withWatermark(\"timestamp\", \"5 minutes\")\n",
        "    .groupBy(\"id\", \"trip_id\", window_spec)\n",
        "    .agg(\n",
        "        max(\"current_status\").alias(\"current_status\"),\n",
        "        max(\"route_id\").alias(\"route_id\"),\n",
        "        max(\"stop_id\").alias(\"stop_id\"),\n",
        "        min(\"timestamp\").alias(\"first_timestamp\"),\n",
        "        max(\"timestamp\").alias(\"last_timestamp\"),\n",
        "        first(\"lat\").alias(\"first_lat\"),\n",
        "        first(\"lon\").alias(\"first_lon\"),\n",
        "        last(\"lat\").alias(\"last_lat\"),\n",
        "        last(\"lon\").alias(\"last_lon\")\n",
        "    ).withColumn(\n",
        "        \"distance\",\n",
        "        haversine_udf(col(\"first_lat\"), col(\"first_lon\"), col(\"last_lat\"), col(\"last_lon\")\n",
        "        )\n",
        "\n",
        "        ).withColumn(\n",
        "        \"time_delta\", col(\"last_timestamp\").cast(\"long\") - col(\"first_timestamp\").cast(\"long\")\n",
        "    ).withColumn(\"average_speed\", col(\"distance\") / (col(\"time_delta\") / 3600))\n",
        "\n",
        ")\n",
        "\n",
        "query = (result_df.writeStream\n",
        ".outputMode('append')\n",
        ".option('checkpointLocation', 'content/lake/processing/vehicles_checkpoint')\n",
        ".trigger(processingTime='30 seconds')\n",
        "#.foreach(transform_data)\n",
        ".start('content/lake/processing/vehicles/data')\n",
        ")\n",
        "\n",
        "query.awaitTermination(300)\n",
        "\n",
        "query.stop()\n"
      ],
      "metadata": {
        "id": "Ixu4EnWx3HwY",
        "colab": {
          "base_uri": "https://localhost:8080/"
        },
        "collapsed": true,
        "outputId": "e5e4a540-c979-4239-83ab-d6743c3bedc9"
      },
      "execution_count": 15,
      "outputs": [
        {
          "output_type": "stream",
          "name": "stdout",
          "text": [
            "will start streaming\n",
            "Transformed data\n"
          ]
        }
      ]
    },
    {
      "cell_type": "markdown",
      "source": [
        "## Step 6: Read and verify results"
      ],
      "metadata": {
        "id": "irMdRfeGJ53f"
      }
    },
    {
      "cell_type": "code",
      "source": [
        "\n",
        "df = spark.read.format(\"parquet\").load(\"content/lake/processing/vehicles/data\")\n"
      ],
      "metadata": {
        "id": "SU7P7Bs26c4C"
      },
      "execution_count": 16,
      "outputs": []
    },
    {
      "cell_type": "code",
      "source": [
        "df.show()"
      ],
      "metadata": {
        "id": "55izQz3EI_Va",
        "outputId": "71b54549-ee83-4591-bf28-b4ef1156fd88",
        "colab": {
          "base_uri": "https://localhost:8080/"
        }
      },
      "execution_count": 17,
      "outputs": [
        {
          "output_type": "stream",
          "name": "stdout",
          "text": [
            "+---+-------+------+--------------+--------+-------+---------------+--------------+---------+---------+--------+--------+--------+----------+-------------+\n",
            "| id|trip_id|window|current_status|route_id|stop_id|first_timestamp|last_timestamp|first_lat|first_lon|last_lat|last_lon|distance|time_delta|average_speed|\n",
            "+---+-------+------+--------------+--------+-------+---------------+--------------+---------+---------+--------+--------+--------+----------+-------------+\n",
            "+---+-------+------+--------------+--------+-------+---------------+--------------+---------+---------+--------+--------+--------+----------+-------------+\n",
            "\n"
          ]
        }
      ]
    },
    {
      "cell_type": "code",
      "source": [
        "final =( df.orderBy(\"last_timestamp\", ascending=False)\n",
        "        .dropDuplicates([\"id\"])\n",
        "        .withColumn(\"stop\", calculate_stop_location(col(\"stop_id\")))\n",
        "     .withColumn(\"distance_till_stop\", haversine_udf(col(\"last_lat\"), col('last_lon'), col('stop.lat'), col('stop.lon')))\n",
        "     .withColumn(\"stop_eta\", col(\"distance_till_stop\") / col(\"average_speed\"))\n",
        "\n",
        "\n",
        "         )"
      ],
      "metadata": {
        "id": "exdh465FGXEN"
      },
      "execution_count": 10,
      "outputs": []
    },
    {
      "cell_type": "code",
      "source": [
        "final.show()"
      ],
      "metadata": {
        "id": "XHMQYUvxGmIn",
        "outputId": "a312a431-879f-41a8-87d7-4345f1e9c218",
        "colab": {
          "base_uri": "https://localhost:8080/"
        }
      },
      "execution_count": 116,
      "outputs": [
        {
          "output_type": "stream",
          "name": "stdout",
          "text": [
            "+-------+--------------------+--------------------+--------------+--------+-------+-------------------+-------------------+---------+---------+---------+---------+--------+----------+-------------+--------------------+------------------+--------+\n",
            "|     id|             trip_id|              window|current_status|route_id|stop_id|    first_timestamp|     last_timestamp|first_lat|first_lon| last_lat| last_lon|distance|time_delta|average_speed|                stop|distance_till_stop|stop_eta|\n",
            "+-------+--------------------+--------------------+--------------+--------+-------+-------------------+-------------------+---------+---------+---------+---------+--------+----------+-------------+--------------------+------------------+--------+\n",
            "|41|1240|1629_0_2_2230_225...|{2025-01-17 22:34...|    STOPPED_AT|  1629_0| 172534|2025-01-17 22:35:58|2025-01-17 22:35:58|38.802116|-9.376753|38.802116|-9.376753|     0.0|         0|         NULL|{38.80214, -9.376...|        0.01128212|    NULL|\n",
            "|41|1249|1523_0_1_2230_225...|{2025-01-17 22:34...|    STOPPED_AT|  1523_0| 172486|2025-01-17 22:36:13|2025-01-17 22:36:13|38.767685|-9.299649|38.767685|-9.299649|     0.0|         0|         NULL| {38.767, -9.298391}|         0.1331279|    NULL|\n",
            "|41|1316|1709_0_1_2200_222...|{2025-01-17 22:34...|   INCOMING_AT|  1709_0| 060068|2025-01-17 22:36:12|2025-01-17 22:36:12|38.753918| -9.19089|38.753918| -9.19089|     0.0|         0|         NULL|{38.753235, -9.19...|        0.09025289|    NULL|\n",
            "|41|1415|1608_0_2_2030_205...|{2025-01-17 22:34...|    STOPPED_AT|  1608_0| 120787|2025-01-17 22:36:25|2025-01-17 22:36:25| 38.68868|-9.317213| 38.68868|-9.317213|     0.0|         0|         NULL|{38.688534, -9.31...|       0.057911795|    NULL|\n",
            "|41|1809|1714_0_2_2130_215...|{2025-01-17 22:34...|    STOPPED_AT|  1714_0| 060079|2025-01-17 22:36:29|2025-01-17 22:36:29| 38.71528|-9.211304| 38.71528|-9.211304|     0.0|         0|         NULL|{38.709805, -9.21...|         0.6869394|    NULL|\n",
            "|42|1105|2905_0_2|150|1|18...|{2025-01-17 22:34...| IN_TRANSIT_TO|  2905_0| 200041|2025-01-17 22:36:28|2025-01-17 22:36:28|39.028236|-9.370652|39.028236|-9.370652|     0.0|         0|         NULL|{39.07888, -9.373...|         5.6376877|    NULL|\n",
            "|42|1271|2626_0_2|150|1|20...|{2025-01-17 22:34...|   INCOMING_AT|  2626_0| 080210|2025-01-17 22:36:28|2025-01-17 22:36:28|38.942802|-9.339846|38.942802|-9.339846|     0.0|         0|         NULL| {38.9428, -9.34089}|        0.09031446|    NULL|\n",
            "|42|2012|2309_0_1|1|1|2200...|{2025-01-17 22:34...|   INCOMING_AT|  2309_0| 180765|2025-01-17 22:36:15|2025-01-17 22:36:15|38.954456|-8.987154|38.954456|-8.987154|     0.0|         0|         NULL|{38.955135, -8.98...|        0.08209973|    NULL|\n",
            "|42|2359|2708_0_1|1|1|2240...|{2025-01-17 22:34...|    STOPPED_AT|  2708_0| 071337|2025-01-17 22:36:27|2025-01-17 22:36:27| 38.83121|-9.128495| 38.83121|-9.128495|     0.0|         0|         NULL|{38.830967, -9.12...|        0.03513466|    NULL|\n",
            "|42|2413|2538_0_2|1|1|2225...|{2025-01-17 22:34...|    STOPPED_AT|  2538_0| 070924|2025-01-17 22:36:29|2025-01-17 22:36:29| 38.87131|-9.122911| 38.87131|-9.122911|     0.0|         0|         NULL|{38.864677, -9.12...|        0.75388026|    NULL|\n",
            "|42|2556|2823_0_1|1|1|2215...|{2025-01-17 22:34...|   INCOMING_AT|  2823_0| 060372|2025-01-17 22:36:18|2025-01-17 22:36:18|38.761024|-9.196685|38.761024|-9.196685|     0.0|         0|         NULL|{38.761524, -9.19...|         0.0590044|    NULL|\n",
            "|43|2024|3026_0_2_2000_202...|{2025-01-17 22:34...| IN_TRANSIT_TO|  3026_0| 020740|2025-01-17 22:36:27|2025-01-17 22:36:27|38.673637|-9.153604|38.673637|-9.153604|     0.0|         0|         NULL|{38.671444, -9.15...|        0.37077126|    NULL|\n",
            "|43|2037|3506_0_1_2230_225...|{2025-01-17 22:34...| IN_TRANSIT_TO|  3506_0| 020743|2025-01-17 22:36:27|2025-01-17 22:36:27| 38.67517|-9.158492| 38.67517|-9.158492|     0.0|         0|         NULL|{38.67455, -9.159...|        0.11927743|    NULL|\n",
            "|43|2216|3113_0_1_2200_222...|{2025-01-17 22:34...|   INCOMING_AT|  3113_0| 149994|2025-01-17 22:36:05|2025-01-17 22:36:05| 38.64652|-9.096196| 38.64652|-9.096196|     0.0|         0|         NULL|{38.64699, -9.096...|        0.05775346|    NULL|\n",
            "|43|2217|3505_0_1_1930_195...|{2025-01-17 22:34...| IN_TRANSIT_TO|  3505_0| 020500|2025-01-17 22:36:27|2025-01-17 22:36:27| 38.65108|-9.151858| 38.65108|-9.151858|     0.0|         0|         NULL|{38.66395, -9.159...|         1.5864705|    NULL|\n",
            "|43|2286|3521_0_2_2230_225...|{2025-01-17 22:34...| IN_TRANSIT_TO|  3521_0| 020999|2025-01-17 22:36:27|2025-01-17 22:36:27|38.573704| -9.19398|38.573704| -9.19398|     0.0|         0|         NULL|{38.57584, -9.193...|        0.24581626|    NULL|\n",
            "|43|2297|3705_0_2_2200_222...|{2025-01-17 22:34...| IN_TRANSIT_TO|  3705_0| 020001|2025-01-17 22:36:25|2025-01-17 22:36:25|38.707127|-9.178466|38.707127|-9.178466|     0.0|         0|         NULL|{38.673805, -9.17...|         3.7254488|    NULL|\n",
            "|43|2299|3112_0_1_2200_222...|{2025-01-17 22:34...|   INCOMING_AT|  3112_0| 140074|2025-01-17 22:36:28|2025-01-17 22:36:28|38.646652|-9.096163|38.646652|-9.096163|     0.0|         0|         NULL|{38.647053, -9.09...|        0.05128503|    NULL|\n",
            "|43|2322|3021_0_1_2230_225...|{2025-01-17 22:34...| IN_TRANSIT_TO|  3021_0| 020441|2025-01-17 22:36:08|2025-01-17 22:36:08|38.641705|-9.231252|38.641705|-9.231252|     0.0|         0|         NULL|{38.638493, -9.23...|         0.4259393|    NULL|\n",
            "|43|2344|3526_0_2_2200_222...|{2025-01-17 22:34...|   INCOMING_AT|  3526_0| 020696|2025-01-17 22:36:21|2025-01-17 22:36:21|38.653873|-9.149679|38.653873|-9.149679|     0.0|         0|         NULL|{38.65364, -9.148...|        0.06461809|    NULL|\n",
            "+-------+--------------------+--------------------+--------------+--------+-------+-------------------+-------------------+---------+---------+---------+---------+--------+----------+-------------+--------------------+------------------+--------+\n",
            "only showing top 20 rows\n",
            "\n"
          ]
        }
      ]
    }
  ],
  "metadata": {
    "colab": {
      "provenance": [],
      "include_colab_link": true
    },
    "kernelspec": {
      "display_name": "Python 3",
      "name": "python3"
    },
    "language_info": {
      "name": "python"
    }
  },
  "nbformat": 4,
  "nbformat_minor": 0
}