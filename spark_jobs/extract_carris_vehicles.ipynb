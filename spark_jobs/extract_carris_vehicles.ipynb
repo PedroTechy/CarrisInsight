{
  "cells": [
    {
      "cell_type": "markdown",
      "metadata": {
        "id": "view-in-github",
        "colab_type": "text"
      },
      "source": [
        "<a href=\"https://colab.research.google.com/github/PedroTechy/CarrisInsight/blob/streaming_development/spark_jobs/extract_carris_vehicles.ipynb\" target=\"_parent\"><img src=\"https://colab.research.google.com/assets/colab-badge.svg\" alt=\"Open In Colab\"/></a>"
      ]
    },
    {
      "cell_type": "markdown",
      "metadata": {
        "id": "TputMQpEi4ax"
      },
      "source": [
        "# Step 1: Authenticate with Google Cloud\n"
      ]
    },
    {
      "cell_type": "code",
      "execution_count": 2,
      "metadata": {
        "id": "IoSKBOhCi4a3",
        "colab": {
          "base_uri": "https://localhost:8080/"
        },
        "outputId": "67fa3ede-b15e-4c5e-a4f9-73d1ad600344"
      },
      "outputs": [
        {
          "output_type": "stream",
          "name": "stdout",
          "text": [
            "Go to the following link in your browser, and complete the sign-in prompts:\n",
            "\n",
            "    https://accounts.google.com/o/oauth2/auth?response_type=code&client_id=764086051850-6qr4p6gpi6hn506pt8ejuq83di341hur.apps.googleusercontent.com&redirect_uri=https%3A%2F%2Fsdk.cloud.google.com%2Fapplicationdefaultauthcode.html&scope=openid+https%3A%2F%2Fwww.googleapis.com%2Fauth%2Fuserinfo.email+https%3A%2F%2Fwww.googleapis.com%2Fauth%2Fcloud-platform+https%3A%2F%2Fwww.googleapis.com%2Fauth%2Fsqlservice.login&state=koG8lBs5yV8Y80KHWJjux4YdqliSUA&prompt=consent&token_usage=remote&access_type=offline&code_challenge=jFo2BQ-gcLZTKiDJ8wEW5IgaxeHDt5NfTIxYMQwVPMo&code_challenge_method=S256\n",
            "\n",
            "Once finished, enter the verification code provided in your browser: 4/0AanRRrs7R2-U1_ipAb-iFBRytzOhlX78w_gGubiDhNp0bsMgSbi61oEr0r1d9obj64l6sg\n",
            "\n",
            "Credentials saved to file: [/content/.config/application_default_credentials.json]\n",
            "\n",
            "These credentials will be used by any library that requests Application Default Credentials (ADC).\n",
            "\u001b[1;33mWARNING:\u001b[0m \n",
            "Cannot find a quota project to add to ADC. You might receive a \"quota exceeded\" or \"API not enabled\" error. Run $ gcloud auth application-default set-quota-project to add a quota project.\n"
          ]
        }
      ],
      "source": [
        "!gcloud auth application-default login"
      ]
    },
    {
      "cell_type": "code",
      "source": [],
      "metadata": {
        "id": "aT4t2I4aLDcc"
      },
      "execution_count": null,
      "outputs": []
    },
    {
      "cell_type": "markdown",
      "metadata": {
        "id": "5joskWjSi4a5"
      },
      "source": [
        "# Step 2: Install Spark and BigQuery connector"
      ]
    },
    {
      "cell_type": "code",
      "source": [
        "!pip install pyspark"
      ],
      "metadata": {
        "colab": {
          "base_uri": "https://localhost:8080/"
        },
        "id": "Xnykj576wq14",
        "outputId": "7d2631bd-1053-4a6c-fa96-fe672d9763c4"
      },
      "execution_count": 3,
      "outputs": [
        {
          "output_type": "stream",
          "name": "stdout",
          "text": [
            "Requirement already satisfied: pyspark in /usr/local/lib/python3.11/dist-packages (3.5.4)\n",
            "Requirement already satisfied: py4j==0.10.9.7 in /usr/local/lib/python3.11/dist-packages (from pyspark) (0.10.9.7)\n"
          ]
        }
      ]
    },
    {
      "cell_type": "code",
      "source": [
        "from pyspark import SparkConf\n",
        "from pyspark.sql import SparkSession\n",
        "from pyspark.sql.types import StructType, StructField, StringType, IntegerType, FloatType, LongType\n",
        "from pyspark.sql.functions import min, max, first, last, col, window, from_unixtime, to_timestamp, count, udf\n"
      ],
      "metadata": {
        "id": "E8AB-EuOxXAD"
      },
      "execution_count": 28,
      "outputs": []
    },
    {
      "cell_type": "code",
      "source": [
        "spark = SparkSession.builder \\\n",
        "    .appName('pyspark-run-with-gcp-bucket') \\\n",
        "    .config(\"spark.jars\", \"https://storage.googleapis.com/hadoop-lib/gcs/gcs-connector-hadoop3-latest.jar\") \\\n",
        "    .config(\"spark.sql.repl.eagerEval.enabled\", True) \\\n",
        "    .getOrCreate()\n",
        "\n",
        "spark._jsc.hadoopConfiguration().set(\"google.cloud.auth.service.account.json.keyfile\", \"/content/.config/application_default_credentials.json\")"
      ],
      "metadata": {
        "id": "Kd0js4ULxYOE"
      },
      "execution_count": 35,
      "outputs": []
    },
    {
      "cell_type": "markdown",
      "metadata": {
        "id": "q4IR_oNvi4a9"
      },
      "source": [
        "# Step 3: Set environment variables for Spark and Java"
      ]
    },
    {
      "cell_type": "markdown",
      "metadata": {
        "id": "fiCgcxzXi4bA"
      },
      "source": [
        "# Step 4: Initialize Spark session"
      ]
    },
    {
      "cell_type": "markdown",
      "metadata": {
        "id": "27Ich5yIi4bA"
      },
      "source": [
        "# Step 5: Define GCS input path and output BigQuery table"
      ]
    },
    {
      "cell_type": "code",
      "execution_count": 6,
      "metadata": {
        "id": "BJKtwKfCi4bB"
      },
      "outputs": [],
      "source": [
        "input_path = \"gs://edit-de-project-streaming-data/carris-vehicles\"\n",
        "output_table = \"data-eng-dev-437916.data_eng_project_group3_raw\""
      ]
    },
    {
      "cell_type": "code",
      "source": [
        "!rm -rf content/lake/"
      ],
      "metadata": {
        "id": "OUX7Hw_TW02b"
      },
      "execution_count": 39,
      "outputs": []
    },
    {
      "cell_type": "markdown",
      "source": [],
      "metadata": {
        "id": "SoLfFeUObaY2"
      }
    },
    {
      "cell_type": "markdown",
      "source": [],
      "metadata": {
        "id": "ZiGVmPmKbaVt"
      }
    },
    {
      "cell_type": "markdown",
      "metadata": {
        "id": "oo74DP8Fi4bB"
      },
      "source": [
        "# Step 6: Read streaming data from GCS"
      ]
    },
    {
      "cell_type": "code",
      "execution_count": 34,
      "metadata": {
        "id": "ei6YYuAei4bB"
      },
      "outputs": [],
      "source": [
        "# Define the schema for your JSON files\n",
        "\n",
        "schema = StructType([\n",
        "    StructField(\"bearing\", FloatType(), True),\n",
        "    StructField(\"block_id\", StringType(), True),\n",
        "    StructField(\"current_status\", StringType(), True),\n",
        "    StructField(\"id\", StringType(), True),\n",
        "    StructField(\"lat\", FloatType(), True),\n",
        "    StructField(\"line_id\", StringType(), True),\n",
        "    StructField(\"lon\", FloatType(), True),\n",
        "    StructField(\"pattern_id\", StringType(), True),\n",
        "    StructField(\"route_id\", StringType(), True),\n",
        "    StructField(\"schedule_relationship\", StringType(), True),\n",
        "    StructField(\"shift_id\", StringType(), True),\n",
        "    StructField(\"speed\", FloatType(), True),\n",
        "    StructField(\"stop_id\", StringType(), True),\n",
        "    StructField(\"timestamp\", LongType(), True),\n",
        "    StructField(\"trip_id\", StringType(), True)\n",
        "])"
      ]
    },
    {
      "cell_type": "code",
      "source": [
        "\n",
        "def transform_data(df, batch_id):\n",
        "  transformed_df = df.withColumn(\"timestamp\", to_timestamp(from_unixtime(\"timestamp\")))\n",
        "  print(transformed_df.orderBy(\"timestamp\", ascending=False).show(5))\n",
        "  print(transformed_df.orderBy(\"timestamp\", ascending=True).show(5))\n",
        "  # Write a df with the datetype transform only\n",
        "  transformed_df.write.mode(\"append\").format(\"parquet\").save(\"content/lake/processing/vehicles/tests\")\n",
        "\n",
        "  window_spec = window(\"timestamp\", \"2 minutes\")\n",
        "  # Group by vehicle ID and window, then get the first and last timestamps and lat/lon values\n",
        "  result_df = (\n",
        "      transformed_df.groupBy(\"id\", window_spec)\n",
        "      .agg(\n",
        "          max(\"current_status\").alias(\"current_status\"),\n",
        "          max(\"route_id\").alias(\"route_id\"),\n",
        "          max(\"trip_id\").alias(\"count\"),\n",
        "          count(\"trip_id\").alias(\"count\"),\n",
        "          min(\"timestamp\").alias(\"first_timestamp\"),\n",
        "          max(\"timestamp\").alias(\"last_timestamp\"),\n",
        "          first(\"lat\").alias(\"first_lat\"),\n",
        "          first(\"lon\").alias(\"first_lon\"),\n",
        "          last(\"lat\").alias(\"last_lat\"),\n",
        "          last(\"lon\").alias(\"last_lon\")\n",
        "      )\n",
        "\n",
        "      #.orderBy(\"last_timestamp\", ascending=False)#.dropDuplicates([\"id\"])\n",
        "      )\n",
        "  print(result_df.orderBy(\"first_timestamp\", ascending=False).show(5))\n",
        "  print(result_df.orderBy(\"last_timestamp\", ascending=True).show(5))\n",
        "\n",
        "  result_df.write.mode(\"append\").format(\"parquet\").save(\"content/lake/processing/vehicles/data\")\n",
        "  print(result_df.count())\n",
        "  return result_df\n",
        "\n"
      ],
      "metadata": {
        "id": "yXJ7kxEHxdw6"
      },
      "execution_count": 41,
      "outputs": []
    },
    {
      "cell_type": "code",
      "source": [
        "import math\n",
        "def haversine(lat1, lon1, lat2, lon2):\n",
        "    try:\n",
        "      # Earth radius in kilometers\n",
        "      R = 6371.0\n",
        "\n",
        "      # Convert latitude and longitude from degrees to radians\n",
        "      lat1_rad, lon1_rad = math.radians(lat1), math.radians(lon1)\n",
        "      lat2_rad, lon2_rad = math.radians(lat2), math.radians(lon2)\n",
        "\n",
        "      # Differences\n",
        "      delta_lat = lat2_rad - lat1_rad\n",
        "      delta_lon = lon2_rad - lon1_rad\n",
        "\n",
        "      # Haversine formula\n",
        "      a = math.sin(delta_lat / 2)**2 + math.cos(lat1_rad) * math.cos(lat2_rad) * math.sin(delta_lon / 2)**2\n",
        "      c = 2 * math.atan2(math.sqrt(a), math.sqrt(1 - a))\n",
        "\n",
        "      # Distance\n",
        "      distance = R * c\n",
        "      return distance\n",
        "    except:\n",
        "      return 0\n",
        "\n",
        "\n",
        "\n",
        "\n",
        "haversine_udf = udf(haversine, FloatType())\n",
        "\n"
      ],
      "metadata": {
        "id": "ZBlciteo7N2G"
      },
      "execution_count": 42,
      "outputs": []
    },
    {
      "cell_type": "markdown",
      "source": [],
      "metadata": {
        "id": "mKf2yAgm7jlM"
      }
    },
    {
      "cell_type": "markdown",
      "source": [],
      "metadata": {
        "id": "B1MkKQ5O7jh2"
      }
    },
    {
      "cell_type": "code",
      "source": [
        "df = (spark.readStream.option(\"maxFilesPerTrigger\", 1)\n",
        "    .format(\"json\")\n",
        "    .schema(schema)\n",
        "    .load(input_path))\n",
        "print(\"will start streaming\")\n",
        "\n",
        "\n",
        "transformed_df = df.withColumn(\"timestamp\", to_timestamp(from_unixtime(\"timestamp\")))\n",
        "# Write a df with the datetype transform only\n",
        "\n",
        "window_spec = window(\"timestamp\", \"2 minutes\", \"10 seconds\")\n",
        "# Group by vehicle ID and window, then get the first and last timestamps and lat/lon values\n",
        "result_df = (\n",
        "    transformed_df\n",
        "        .withWatermark(\"timestamp\", \"3 minutes\")\n",
        "    .groupBy(\"id\", \"trip_id\", window_spec)\n",
        "    .agg(\n",
        "        max(\"current_status\").alias(\"current_status\"),\n",
        "        max(\"route_id\").alias(\"route_id\"),\n",
        "        min(\"timestamp\").alias(\"first_timestamp\"),\n",
        "        max(\"timestamp\").alias(\"last_timestamp\"),\n",
        "        first(\"lat\").alias(\"first_lat\"),\n",
        "        first(\"lon\").alias(\"first_lon\"),\n",
        "        last(\"lat\").alias(\"last_lat\"),\n",
        "        last(\"lon\").alias(\"last_lon\")\n",
        "    ).withColumn(\n",
        "        \"distance\",\n",
        "        haversine_udf(col(\"first_lat\"), col(\"first_lon\"), col(\"last_lat\"), col(\"last_lon\")\n",
        "        )\n",
        "        #.orderBy(\"last_timestamp\", ascending=False)#.dropDuplicates([\"id\"])\n",
        "    ).withColumn(\n",
        "        \"time_delta\", col(\"last_timestamp\").cast(\"long\") - col(\"first_timestamp\").cast(\"long\")\n",
        "    ).withColumn(\"average_speed\", col(\"distance\") / (col(\"time_delta\") / 3600))\n",
        "    #.orderBy(\"last_timestamp\", ascending=False)\n",
        ")\n",
        "\n",
        "query = (result_df.writeStream\n",
        ".outputMode('append')\n",
        ".option('checkpointLocation', 'content/lake/processing/vehicles_checkpoint') #using a common checkpoint for both messages streams.\n",
        ".trigger(processingTime='10 seconds')\n",
        "#.foreach(transform_data)\n",
        ".start('content/lake/processing/vehicles/data')\n",
        ")\n",
        "\n",
        "query.awaitTermination(300)\n",
        "\n",
        "query.stop()\n"
      ],
      "metadata": {
        "id": "Ixu4EnWx3HwY",
        "colab": {
          "base_uri": "https://localhost:8080/"
        },
        "collapsed": true,
        "outputId": "1db6bfdc-6b62-4094-d933-504eab087c2f"
      },
      "execution_count": null,
      "outputs": [
        {
          "output_type": "stream",
          "name": "stdout",
          "text": [
            "will start streaming\n"
          ]
        }
      ]
    },
    {
      "cell_type": "code",
      "source": [
        "df = spark.read.format(\"parquet\").load(\"content/lake/processing/vehicles/data\")\n"
      ],
      "metadata": {
        "id": "SU7P7Bs26c4C"
      },
      "execution_count": 21,
      "outputs": []
    },
    {
      "cell_type": "code",
      "source": [],
      "metadata": {
        "id": "JLG3QL4u6bcY"
      },
      "execution_count": null,
      "outputs": []
    },
    {
      "cell_type": "code",
      "source": [
        "tests = spark.read.format(\"parquet\").load(\"content/lake/processing/vehicles/test/data\")\n"
      ],
      "metadata": {
        "id": "e2a6Wtry5hLA"
      },
      "execution_count": 67,
      "outputs": []
    },
    {
      "cell_type": "code",
      "source": [
        "df.show()"
      ],
      "metadata": {
        "id": "2aZ8I2B7JLmK",
        "outputId": "230cef15-7529-4af8-95b7-bddd0ee5597e",
        "colab": {
          "base_uri": "https://localhost:8080/"
        }
      },
      "execution_count": 23,
      "outputs": [
        {
          "output_type": "stream",
          "name": "stdout",
          "text": [
            "+--------+--------------------+-----+-------------------+-------------------+---------+---------+---------+---------+\n",
            "|      id|              window|count|    first_timestamp|     last_timestamp|first_lat|first_lon| last_lat| last_lon|\n",
            "+--------+--------------------+-----+-------------------+-------------------+---------+---------+---------+---------+\n",
            "| 42|2319|{2025-01-17 19:15...|    3|2025-01-17 19:16:28|2025-01-17 19:17:09| 38.75608|-9.151774|38.759094|-9.154597|\n",
            "| 41|1333|{2025-01-17 19:15...|    3|2025-01-17 19:16:30|2025-01-17 19:17:45| 38.73912|-9.304881|38.744076|-9.303941|\n",
            "| 41|1246|{2025-01-17 19:16...|    4|2025-01-17 19:16:32|2025-01-17 19:17:50|38.766533|-9.206014|38.765526|-9.205146|\n",
            "| 41|1413|{2025-01-17 19:16...|    3|2025-01-17 19:16:47|2025-01-17 19:17:49| 38.75795|-9.382061|38.759228|-9.375238|\n",
            "|  41|745|{2025-01-17 19:16...|    4|2025-01-17 19:16:25|2025-01-17 19:17:33| 38.86975|-9.354175|38.864723|-9.356451|\n",
            "| 42|2581|{2025-01-17 19:16...|    3|2025-01-17 19:16:39|2025-01-17 19:17:23| 38.85429|-9.145131| 38.85394|-9.145402|\n",
            "| 42|2712|{2025-01-17 19:16...|    5|2025-01-17 19:16:12|2025-01-17 19:18:09| 38.78365|-9.105557|38.800045|-9.093665|\n",
            "|44|12590|{2025-01-17 19:15...|    3|2025-01-17 19:16:50|2025-01-17 19:17:44| 38.53051| -8.99077|38.527637|-8.994745|\n",
            "| 43|2014|{2025-01-17 19:16...|    3|2025-01-17 19:16:27|2025-01-17 19:17:10|38.632572|-9.140063|38.634026|-9.142914|\n",
            "| 42|2531|{2025-01-17 19:15...|    3|2025-01-17 19:16:42|2025-01-17 19:17:32|38.805893|-9.157474|38.807022|-9.157402|\n",
            "| 42|2700|{2025-01-17 19:16...|    2|2025-01-17 19:16:53|2025-01-17 19:16:53| 38.77669|-9.105649| 38.77669|-9.105649|\n",
            "| 41|1223|{2025-01-17 19:16...|    3|2025-01-17 19:16:25|2025-01-17 19:17:12|38.767376|-9.316259|38.767376|-9.316259|\n",
            "| 41|1370|{2025-01-17 19:15...|    2|2025-01-17 19:16:10|2025-01-17 19:16:10| 38.75771|-9.234162| 38.75771|-9.234162|\n",
            "|  42|295|{2025-01-17 19:16...|    4|2025-01-17 19:16:23|2025-01-17 19:17:51| 38.83324|-9.097229|38.835976|-9.096242|\n",
            "| 42|2566|{2025-01-17 19:16...|    3|2025-01-17 19:16:49|2025-01-17 19:17:51| 38.76358|-9.198864|38.763336|-9.197721|\n",
            "| 43|2318|{2025-01-17 19:16...|    5|2025-01-17 19:16:44|2025-01-17 19:18:18| 38.66695|-9.179636| 38.66608|-9.180223|\n",
            "|  43|349|{2025-01-17 19:16...|    4|2025-01-17 19:16:39|2025-01-17 19:18:05|38.459373|-9.103198|38.462227|-9.102363|\n",
            "| 42|2358|{2025-01-17 19:15...|    3|2025-01-17 19:16:03|2025-01-17 19:17:24|38.809868|-9.119915|38.804432|-9.120158|\n",
            "| 41|1395|{2025-01-17 19:16...|    3|2025-01-17 19:16:33|2025-01-17 19:16:33| 38.70345|-9.397985| 38.70345|-9.397985|\n",
            "|  42|265|{2025-01-17 19:16...|    5|2025-01-17 19:16:38|2025-01-17 19:17:54| 38.87059|-9.067713| 38.87593|-9.069059|\n",
            "+--------+--------------------+-----+-------------------+-------------------+---------+---------+---------+---------+\n",
            "only showing top 20 rows\n",
            "\n"
          ]
        }
      ]
    },
    {
      "cell_type": "code",
      "source": [
        "\n",
        "df.filter(df[\"id\"] == '42|2319').show()"
      ],
      "metadata": {
        "colab": {
          "base_uri": "https://localhost:8080/"
        },
        "id": "1TpKBxJW75Fc",
        "outputId": "eb17a1c6-6ca8-45d3-9b02-dbf045807e5d"
      },
      "execution_count": 25,
      "outputs": [
        {
          "output_type": "stream",
          "name": "stdout",
          "text": [
            "+-------+--------------------+-----+-------------------+-------------------+---------+---------+---------+---------+\n",
            "|     id|              window|count|    first_timestamp|     last_timestamp|first_lat|first_lon| last_lat| last_lon|\n",
            "+-------+--------------------+-----+-------------------+-------------------+---------+---------+---------+---------+\n",
            "|42|2319|{2025-01-17 19:15...|    3|2025-01-17 19:16:28|2025-01-17 19:17:09| 38.75608|-9.151774|38.759094|-9.154597|\n",
            "|42|2319|{2025-01-17 19:16...|    4|2025-01-17 19:16:28|2025-01-17 19:17:51| 38.75608|-9.151774|38.759094|-9.154597|\n",
            "|42|2319|{2025-01-17 19:16...|    4|2025-01-17 19:16:28|2025-01-17 19:17:51| 38.75608|-9.151774|38.759094|-9.154597|\n",
            "|42|2319|{2025-01-17 19:16...|    4|2025-01-17 19:17:09|2025-01-17 19:18:27|38.759094|-9.154597|38.759506|-9.156824|\n",
            "|42|2319|{2025-01-17 19:15...|    3|2025-01-17 19:16:28|2025-01-17 19:17:09| 38.75608|-9.151774|38.759094|-9.154597|\n",
            "|42|2319|{2025-01-17 19:15...|    3|2025-01-17 19:16:28|2025-01-17 19:17:09| 38.75608|-9.151774|38.759094|-9.154597|\n",
            "|42|2319|{2025-01-17 19:16...|    4|2025-01-17 19:17:09|2025-01-17 19:18:27|38.759094|-9.154597|38.759506|-9.156824|\n",
            "|42|2319|{2025-01-17 19:15...|    1|2025-01-17 19:16:28|2025-01-17 19:16:28| 38.75608|-9.151774| 38.75608|-9.151774|\n",
            "|42|2319|{2025-01-17 19:14...|    1|2025-01-17 19:16:28|2025-01-17 19:16:28| 38.75608|-9.151774| 38.75608|-9.151774|\n",
            "|42|2319|{2025-01-17 19:16...|    4|2025-01-17 19:17:09|2025-01-17 19:18:27|38.759094|-9.154597|38.759506|-9.156824|\n",
            "|42|2319|{2025-01-17 19:15...|    3|2025-01-17 19:16:28|2025-01-17 19:17:09| 38.75608|-9.151774|38.759094|-9.154597|\n",
            "|42|2319|{2025-01-17 19:16...|    4|2025-01-17 19:16:28|2025-01-17 19:17:51| 38.75608|-9.151774|38.759094|-9.154597|\n",
            "|42|2319|{2025-01-17 19:14...|    1|2025-01-17 19:16:28|2025-01-17 19:16:28| 38.75608|-9.151774| 38.75608|-9.151774|\n",
            "|42|2319|{2025-01-17 19:14...|    1|2025-01-17 19:16:28|2025-01-17 19:16:28| 38.75608|-9.151774| 38.75608|-9.151774|\n",
            "|42|2319|{2025-01-17 19:15...|    3|2025-01-17 19:16:28|2025-01-17 19:17:09| 38.75608|-9.151774|38.759094|-9.154597|\n",
            "+-------+--------------------+-----+-------------------+-------------------+---------+---------+---------+---------+\n",
            "\n"
          ]
        }
      ]
    },
    {
      "cell_type": "code",
      "source": [],
      "metadata": {
        "id": "ByNO6KX6B5Zx"
      },
      "execution_count": null,
      "outputs": []
    },
    {
      "cell_type": "code",
      "source": [
        "tests.filter(tests[\"id\"] == '44|12097')"
      ],
      "metadata": {
        "colab": {
          "base_uri": "https://localhost:8080/",
          "height": 147
        },
        "id": "JbI63QRN_Wx6",
        "outputId": "fa688059-f149-4048-ebab-9cf20d5dbdb9"
      },
      "execution_count": 26,
      "outputs": [
        {
          "output_type": "error",
          "ename": "NameError",
          "evalue": "name 'tests' is not defined",
          "traceback": [
            "\u001b[0;31m---------------------------------------------------------------------------\u001b[0m",
            "\u001b[0;31mNameError\u001b[0m                                 Traceback (most recent call last)",
            "\u001b[0;32m<ipython-input-26-6d8b5b1da506>\u001b[0m in \u001b[0;36m<cell line: 0>\u001b[0;34m()\u001b[0m\n\u001b[0;32m----> 1\u001b[0;31m \u001b[0mtests\u001b[0m\u001b[0;34m.\u001b[0m\u001b[0mfilter\u001b[0m\u001b[0;34m(\u001b[0m\u001b[0mtests\u001b[0m\u001b[0;34m[\u001b[0m\u001b[0;34m\"id\"\u001b[0m\u001b[0;34m]\u001b[0m \u001b[0;34m==\u001b[0m \u001b[0;34m'44|12097'\u001b[0m\u001b[0;34m)\u001b[0m\u001b[0;34m\u001b[0m\u001b[0;34m\u001b[0m\u001b[0m\n\u001b[0m",
            "\u001b[0;31mNameError\u001b[0m: name 'tests' is not defined"
          ]
        }
      ]
    },
    {
      "cell_type": "code",
      "source": [
        "# prompt: create a new column that applies haversine to each row to the values of columns first_lat, first_lon, last_lat and last_lon\n",
        "\n",
        "from pyspark.sql.functions import udf\n",
        "import pyspark.sql.functions as F\n",
        "from pyspark.sql.types import FloatType,   StringType, IntegerType\n",
        "\n",
        "\n",
        "haversine_udf = F.udf(haversine, FloatType())\n",
        "\n",
        "df = df.withColumn(\"distance\", haversine_udf(F.col(\"first_lat\"), F.col(\"first_lon\"), F.col(\"last_lat\"), F.col(\"last_lon\")))\n",
        "\n",
        "# Apply the UDF to create the new column\n"
      ],
      "metadata": {
        "id": "f0h3skZHByb_"
      },
      "execution_count": 58,
      "outputs": []
    },
    {
      "cell_type": "code",
      "source": [
        "window_spec = window(\"timestamp\", \"2 minutes\")\n",
        "  # Group by vehicle ID and window, then get the first and last timestamps and lat/lon values\n",
        "result_df = (tests.groupBy(\"id\", window_spec)\n",
        "      .agg(\n",
        "          min(\"timestamp\").alias(\"first_timestamp\"),\n",
        "          max(\"timestamp\").alias(\"last_timestamp\"),\n",
        "          first(\"lat\").alias(\"first_lat\"),\n",
        "          first(\"lon\").alias(\"first_lon\"),\n",
        "          last(\"lat\").alias(\"last_lat\"),\n",
        "          last(\"lon\").alias(\"last_lon\")\n",
        "      ).orderBy(\"last_timestamp\", ascending=False).dropDuplicates([\"id\"]).withColumn(\"distance\", haversine_udf(F.col(\"first_lat\"), F.col(\"first_lon\"), F.col(\"last_lat\"), F.col(\"last_lon\")))\n",
        "      )"
      ],
      "metadata": {
        "id": "XM2ERwvW51a7"
      },
      "execution_count": 59,
      "outputs": []
    },
    {
      "cell_type": "code",
      "source": [
        "df.filter(df[\"first_lat\"] != df[\"last_lat\"]).show()"
      ],
      "metadata": {
        "colab": {
          "base_uri": "https://localhost:8080/"
        },
        "id": "M2FedCG86dE7",
        "outputId": "174af4ae-e9d6-4d89-9a90-33ab5252592e"
      },
      "execution_count": 23,
      "outputs": [
        {
          "output_type": "stream",
          "name": "stdout",
          "text": [
            "+---+------+---------------+--------------+---------+---------+--------+--------+\n",
            "| id|window|first_timestamp|last_timestamp|first_lat|first_lon|last_lat|last_lon|\n",
            "+---+------+---------------+--------------+---------+---------+--------+--------+\n",
            "+---+------+---------------+--------------+---------+---------+--------+--------+\n",
            "\n"
          ]
        }
      ]
    },
    {
      "cell_type": "code",
      "source": [
        "result_df.filter(result_df[\"first_lat\"] != result_df[\"last_lat\"]).show()"
      ],
      "metadata": {
        "colab": {
          "base_uri": "https://localhost:8080/"
        },
        "id": "MEnUJS2v4i0v",
        "outputId": "78026a47-c152-4acb-9ae8-353ba9e9c394"
      },
      "execution_count": 61,
      "outputs": [
        {
          "output_type": "stream",
          "name": "stdout",
          "text": [
            "+-------+--------------------+-------------------+-------------------+---------+---------+---------+---------+-----------+\n",
            "|     id|              window|    first_timestamp|     last_timestamp|first_lat|first_lon| last_lat| last_lon|   distance|\n",
            "+-------+--------------------+-------------------+-------------------+---------+---------+---------+---------+-----------+\n",
            "|41|1100|{2025-01-17 08:48...|2025-01-17 08:48:02|2025-01-17 08:48:25|38.721485|-9.202832|38.722572|-9.199898|   0.281819|\n",
            "|41|1102|{2025-01-17 10:16...|2025-01-17 10:16:22|2025-01-17 10:17:11|38.725082|-9.249238|38.723186|-9.248443| 0.22181912|\n",
            "|41|1103|{2025-01-17 10:16...|2025-01-17 10:16:19|2025-01-17 10:17:10|38.728683|-9.245057|38.725952|-9.243215|  0.3431985|\n",
            "|41|1104|{2025-01-17 10:16...|2025-01-17 10:16:16|2025-01-17 10:17:15|38.728886|-9.244875|38.726624| -9.24444|  0.2543488|\n",
            "|41|1105|{2025-01-17 10:16...|2025-01-17 10:16:14|2025-01-17 10:16:57|38.734478|-9.305613|38.734356|-9.306508| 0.07885109|\n",
            "|41|1107|{2025-01-17 10:16...|2025-01-17 10:16:16|2025-01-17 10:16:53|38.711563|-9.225757| 38.71074| -9.22633| 0.10424832|\n",
            "|41|1108|{2025-01-17 08:48...|2025-01-17 08:48:04|2025-01-17 08:48:48|38.726025|-9.244004|38.725903|-9.243074|0.081795566|\n",
            "|41|1109|{2025-01-17 10:16...|2025-01-17 10:16:23|2025-01-17 10:17:23|38.723198|-9.234872|38.727394|-9.234258| 0.46962446|\n",
            "|41|1110|{2025-01-17 10:16...|2025-01-17 10:16:44|2025-01-17 10:17:07|38.699207|-9.229353|38.699432|-9.230985| 0.14379781|\n",
            "|41|1113|{2025-01-17 10:16...|2025-01-17 10:16:22|2025-01-17 10:16:59|  38.7204|-9.265386| 38.72058|-9.263254| 0.18598665|\n",
            "|41|1114|{2025-01-17 10:16...|2025-01-17 10:16:24|2025-01-17 10:17:21|38.722095|-9.229852|38.724083|-9.227578| 0.29621062|\n",
            "|41|1116|{2025-01-17 08:48...|2025-01-17 08:48:07|2025-01-17 08:48:53|38.726357|-9.237684|38.725796|-9.235209| 0.22355512|\n",
            "|41|1119|{2025-01-17 10:16...|2025-01-17 10:16:21|2025-01-17 10:16:54|  38.7645|-9.203714|38.760544|-9.201231|  0.4897417|\n",
            "|41|1123|{2025-01-17 10:16...|2025-01-17 10:16:47|2025-01-17 10:16:59| 38.72283|-9.167886|38.723076|-9.166582| 0.11630881|\n",
            "|41|1124|{2025-01-17 08:48...|2025-01-17 08:48:12|2025-01-17 08:48:54|38.725388| -9.24606|38.725353|-9.248302| 0.19453663|\n",
            "|41|1125|{2025-01-17 10:16...|2025-01-17 10:16:22|2025-01-17 10:17:14|38.768524|-9.239515|38.767426|-9.239454| 0.12227695|\n",
            "|41|1126|{2025-01-17 08:48...|2025-01-17 08:48:12|2025-01-17 08:48:32| 38.72739|-9.161511|38.727665|-9.160801| 0.06878421|\n",
            "|41|1127|{2025-01-17 10:16...|2025-01-17 10:16:19|2025-01-17 10:17:09| 38.71849|-9.263035|38.719486| -9.26294| 0.11101227|\n",
            "|41|1128|{2025-01-17 10:16...|2025-01-17 10:16:25|2025-01-17 10:17:07|38.714314|-9.310607| 38.71421|-9.310774| 0.01846178|\n",
            "|41|1131|{2025-01-17 10:16...|2025-01-17 10:16:13|2025-01-17 10:17:10| 38.73846|-9.224705| 38.73717|-9.221508| 0.31213877|\n",
            "+-------+--------------------+-------------------+-------------------+---------+---------+---------+---------+-----------+\n",
            "only showing top 20 rows\n",
            "\n"
          ]
        }
      ]
    },
    {
      "cell_type": "code",
      "source": [
        "\n"
      ],
      "metadata": {
        "id": "fV5e8MdKP1Ya"
      },
      "execution_count": null,
      "outputs": []
    },
    {
      "cell_type": "code",
      "source": [],
      "metadata": {
        "id": "_f0Jzjb3P2aQ"
      },
      "execution_count": null,
      "outputs": []
    },
    {
      "cell_type": "code",
      "source": [],
      "metadata": {
        "id": "8G6JQs7tCFaC"
      },
      "execution_count": null,
      "outputs": []
    },
    {
      "cell_type": "code",
      "source": [],
      "metadata": {
        "id": "DNoXxTT4xOOe"
      },
      "execution_count": null,
      "outputs": []
    },
    {
      "cell_type": "code",
      "source": [
        "# prompt: convert the column timestamp to timestamp\n",
        "\n",
        "from pyspark.sql.functions import from_unixtime, to_timestamp\n"
      ],
      "metadata": {
        "id": "0GiwZmafzrzx"
      },
      "execution_count": null,
      "outputs": []
    },
    {
      "cell_type": "code",
      "source": [
        "# prompt: group by vehicle in 2 minutes buckets\n",
        "\n",
        "from pyspark.sql.functions import window, from_unixtime, col, to_timestamp\n",
        "\n",
        "# Assuming 'vehicles_table' is your table with the vehicle data\n",
        "\n",
        "# Read the data\n",
        "vehicle_data = spark.read.parquet(\"vehicles_table\")\n",
        "\n",
        "# Convert the timestamp to a timestamp type and adjust timezone\n",
        "vehicle_data = vehicle_data.withColumn(\"timestamp_readable\", to_timestamp(from_unixtime(col(\"timestamp\") / 1000)))\n",
        "\n",
        "# Group by vehicle and 2-minute intervals\n",
        "grouped_vehicle_data = vehicle_data.groupBy(\n",
        "    \"id\", window(\"timestamp_readable\", \"2 minutes\")\n",
        ").count()\n",
        "\n",
        "\n",
        "# Show the results\n",
        "grouped_vehicle_data.show(truncate=False)\n",
        "\n",
        "# Optional: Write the grouped data to a new location\n",
        "# grouped_vehicle_data.write.mode(\"overwrite\").parquet(\"grouped_vehicles_data\")"
      ],
      "metadata": {
        "id": "L6dm6YUuz_gO"
      },
      "execution_count": null,
      "outputs": []
    },
    {
      "cell_type": "code",
      "source": [
        "  spark.read.table(\"vehicles_table\").withColumn(\"timestamp\", to_timestamp(from_unixtime(\"timestamp\"))).show()"
      ],
      "metadata": {
        "colab": {
          "base_uri": "https://localhost:8080/"
        },
        "id": "o11cpIq_WvXO",
        "outputId": "2bbee929-031b-4f97-9d1e-6171a27b72d0"
      },
      "execution_count": null,
      "outputs": [
        {
          "output_type": "stream",
          "name": "stdout",
          "text": [
            "+-------+--------------------+--------------+--------+---------+-------+---------+----------+--------+---------------------+------------+---------+-------+-------------------+--------------------+\n",
            "|bearing|            block_id|current_status|      id|      lat|line_id|      lon|pattern_id|route_id|schedule_relationship|    shift_id|    speed|stop_id|          timestamp|             trip_id|\n",
            "+-------+--------------------+--------------+--------+---------+-------+---------+----------+--------+---------------------+------------+---------+-------+-------------------+--------------------+\n",
            "|  183.0|20250116-64010165...| IN_TRANSIT_TO|44|12745| 38.76761|   4720|-9.100393|  4720_0_1|  4720_0|            SCHEDULED|113260234560|      0.0| 060011|2025-01-16 11:16:53|4720_0_1|2700|111...|\n",
            "|   58.0|20250116-64010273...| IN_TRANSIT_TO|44|12557| 38.57138|   4641| -9.03899|  4641_0_2|  4641_0|            SCHEDULED|111500234560|      0.0| 150013|2025-01-16 11:16:43|4641_0_2|2700|102...|\n",
            "|   12.0|20250116-64010076...|    STOPPED_AT|44|12092| 38.70356|   4203|-8.953323|  4203_0_1|  4203_0|            SCHEDULED|121690234560|      0.0| 100038|2025-01-16 11:16:52|4203_0_1|2700|111...|\n",
            "|   97.0|20250116-64010042...|   INCOMING_AT|44|12746|38.701836|   4705| -8.97245|  4705_0_2|  4705_0|            SCHEDULED|123060234560|2.7777777| 100029|2025-01-16 11:16:46|4705_0_2|2700|110...|\n",
            "|  131.0|20250116-64010205...| IN_TRANSIT_TO|44|12731|38.550438|   4431|-8.882385|  4431_0_2|  4431_0|            SCHEDULED|112450234560|      0.0| 160529|2025-01-16 11:16:39|4431_0_2|2700|113...|\n",
            "|   67.0|20250116-64010146...| IN_TRANSIT_TO|44|12060|38.649464|   4604|-8.989128|  4604_0_1|  4604_0|            SCHEDULED|121010234560|      0.0| 090117|2025-01-16 11:16:41|4604_0_1|2700|104...|\n",
            "|   28.0|20250116-64010080...|   INCOMING_AT|44|12503|38.708984|   4514|-8.717798|  4514_0_1|  4514_0|            SCHEDULED|121650234560|15.833333| 130488|2025-01-16 11:16:47|4514_0_1|2700|103...|\n",
            "|  151.0|20250116-64010112...| IN_TRANSIT_TO|44|12506| 38.65653|   4600|-8.991332|  4600_0_1|  4600_0|            SCHEDULED|121340234560|      0.0| 090018|2025-01-16 11:16:45|4600_0_1|2700|103...|\n",
            "|  136.0|20250116-64010130...| IN_TRANSIT_TO|44|12515|38.720238|   4600|-8.999806|  4600_0_1|  4600_0|            SCHEDULED|121170234560|      5.0| 100283|2025-01-16 11:16:40|4600_0_1|2700|110...|\n",
            "|  200.0|20250116-64010164...| IN_TRANSIT_TO|44|12747|38.539406|   4720|-8.872938|  4720_0_1|  4720_0|            SCHEDULED|113250234560|     27.5| 160027|2025-01-16 11:16:38|4720_0_1|2700|104...|\n",
            "|  321.0|20250116-64010072...| IN_TRANSIT_TO|44|12633| 38.70059|   4513|-8.958016|  4513_0_2|  4513_0|            SCHEDULED|121720234560|13.611111| 100008|2025-01-16 11:16:51|4513_0_2|2700|110...|\n",
            "|  310.0|20250116-64010390...| IN_TRANSIT_TO|44|12742| 38.75371|   4702|-8.959135|  4702_0_1|  4702_0|            SCHEDULED|123040234560|      0.0| 010079|2025-01-16 11:16:45|4702_0_1|2700|105...|\n",
            "|   96.0|20250116-64010181...| IN_TRANSIT_TO|44|12673|38.539352|   4725| -8.88745|  4725_0_2|  4725_0|            SCHEDULED|113030234560| 9.722222| 162005|2025-01-16 11:16:41|4725_0_2|2700|111...|\n",
            "|    0.0|20250116-64010200...| IN_TRANSIT_TO|44|12085|38.522995|   4438|-8.895043|  4438_0_2|  4438_0|            SCHEDULED|112500234560|      0.0| 160105|2025-01-16 11:16:49|4438_0_2|2700|111...|\n",
            "|    0.0|       ESC_DU_EU1003|    STOPPED_AT| 43|2339|38.670578|   3505|-9.157463|  3505_0_2|  3505_0|            SCHEDULED|      EU1115|      0.0| 020533|2025-01-16 11:16:48|3505_0_2_1030_105...|\n",
            "|   83.0|20250116-64010167...| IN_TRANSIT_TO|44|12691| 38.52537|   4730|-8.887234|  4730_0_1|  4730_0|            SCHEDULED|113220234560|6.9444447| 160141|2025-01-16 11:16:41|4730_0_1|2700|100...|\n",
            "|   69.0|20250116-64010303...| IN_TRANSIT_TO|44|12586|38.580097|   4544|-8.722515|  4544_0_2|  4544_0|            SCHEDULED|111090234560|     20.0| 130630|2025-01-16 11:16:40|4544_0_2|2700|104...|\n",
            "|   25.0|           1_1739-11| IN_TRANSIT_TO| 41|1197| 38.78523|   1625|  -9.3438|  1625_1_1|  1625_1|            SCHEDULED|        1753| 9.722222| 171139|2025-01-16 11:16:39|1625_1_1_1030_105...|\n",
            "|   78.0|           1_1616-11| IN_TRANSIT_TO| 41|1315|38.756493|   1601|-9.263448|  1601_0_2|  1601_0|            SCHEDULED|        1602|12.222222| 170923|2025-01-16 11:16:43|1601_0_2_1030_105...|\n",
            "|  299.0|           1_1301-11| IN_TRANSIT_TO| 41|1400| 38.70076|   1614|-9.338386|  1614_1_1|  1614_1|            SCHEDULED|        1346|     10.0| 050163|2025-01-16 11:16:30|1614_1_1_1030_105...|\n",
            "+-------+--------------------+--------------+--------+---------+-------+---------+----------+--------+---------------------+------------+---------+-------+-------------------+--------------------+\n",
            "only showing top 20 rows\n",
            "\n"
          ]
        }
      ]
    },
    {
      "cell_type": "markdown",
      "metadata": {
        "id": "Dd1mGZxai4bB"
      },
      "source": [
        "# Step 7: Write streaming data to BigQuery with auto-table creation"
      ]
    },
    {
      "cell_type": "code",
      "source": [
        "streaming_query.stop()"
      ],
      "metadata": {
        "id": "0U3QqQwuTGVX"
      },
      "execution_count": null,
      "outputs": []
    },
    {
      "cell_type": "code",
      "source": [],
      "metadata": {
        "id": "ZKbyGnOSSmxE"
      },
      "execution_count": null,
      "outputs": []
    }
  ],
  "metadata": {
    "colab": {
      "provenance": [],
      "include_colab_link": true
    },
    "kernelspec": {
      "display_name": "Python 3",
      "name": "python3"
    },
    "language_info": {
      "name": "python"
    }
  },
  "nbformat": 4,
  "nbformat_minor": 0
}